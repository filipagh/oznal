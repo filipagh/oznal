{
 "cells": [
  {
   "cell_type": "code",
   "execution_count": 1,
   "outputs": [],
   "source": [
    "import pandas as pd\n",
    "from matplotlib import pyplot as plt"
   ],
   "metadata": {
    "collapsed": false,
    "pycharm": {
     "name": "#%%\n"
    }
   }
  },
  {
   "cell_type": "code",
   "execution_count": 2,
   "metadata": {
    "collapsed": true
   },
   "outputs": [],
   "source": [
    "df = pd.read_csv(\"f.csv\")"
   ]
  },
  {
   "cell_type": "code",
   "execution_count": 3,
   "outputs": [
    {
     "data": {
      "text/plain": "         station_id     vc_id                mes_datetime  temp     rh   td  \\\n0                92  66789712  2021-04-28 00:00:00.000000   0.8  100.0  0.8   \n1                72  69846131  2021-04-28 08:54:00.000000  13.7   25.0 -6.3   \n2                73  69846132  2021-04-28 08:54:00.000000  13.2   24.0 -7.1   \n3                82  69846137  2021-04-28 08:55:00.000000  13.7   24.0 -6.3   \n4                53  69846186  2021-04-28 08:55:00.000000  13.1   23.3 -7.4   \n...             ...       ...                         ...   ...    ...  ...   \n3372568          38  77802865  2022-02-28 23:56:00.000000  -5.0   76.5 -8.5   \n3372569          73  77802878  2022-02-28 23:58:00.000000  -2.8   62.0 -9.1   \n3372570          82  77802873  2022-02-28 23:58:00.000000  -0.5   54.0 -8.7   \n3372571          72  77802871  2022-02-28 23:58:00.000000  -0.5   54.0 -8.7   \n3372572          94  77802879  2022-02-28 23:59:00.000000  -2.1   66.0 -7.7   \n\n          ws     wd  st1   ts1  st2  ts2  grip  water  snow  ice     vis  \n0        0.6  262.0  NaN   NaN  NaN  NaN  0.81   0.07   0.0  0.0  2000.0  \n1        2.6  225.0  NaN  26.3  NaN  NaN  0.82   0.00   0.0  0.0  2000.0  \n2        1.6  338.0  NaN  25.7  NaN  NaN  0.82   0.00   0.0  0.0  2000.0  \n3        2.4  232.0  NaN  23.6  NaN  NaN  0.82   0.00   0.0  0.0  2000.0  \n4        1.1  155.0  NaN  23.5  NaN  NaN  0.82   0.00   0.0  0.0  2000.0  \n...      ...    ...  ...   ...  ...  ...   ...    ...   ...  ...     ...  \n3372568  0.3   89.0  1.0  -3.4  NaN  NaN  0.82   0.00   0.0  0.0     NaN  \n3372569  1.0  161.0  1.0  -2.9  NaN  NaN  0.82   0.00   0.0  0.0  2000.0  \n3372570  3.2   61.0  1.0  -2.1  NaN  NaN  0.82   0.00   0.0  0.0  2000.0  \n3372571  3.2   61.0  1.0  -1.8  NaN  NaN  0.82   0.00   0.0  0.0  2000.0  \n3372572  0.9   10.0  1.0   NaN  NaN  NaN  0.82   0.00   0.0  0.0  2000.0  \n\n[3372573 rows x 17 columns]",
      "text/html": "<div>\n<style scoped>\n    .dataframe tbody tr th:only-of-type {\n        vertical-align: middle;\n    }\n\n    .dataframe tbody tr th {\n        vertical-align: top;\n    }\n\n    .dataframe thead th {\n        text-align: right;\n    }\n</style>\n<table border=\"1\" class=\"dataframe\">\n  <thead>\n    <tr style=\"text-align: right;\">\n      <th></th>\n      <th>station_id</th>\n      <th>vc_id</th>\n      <th>mes_datetime</th>\n      <th>temp</th>\n      <th>rh</th>\n      <th>td</th>\n      <th>ws</th>\n      <th>wd</th>\n      <th>st1</th>\n      <th>ts1</th>\n      <th>st2</th>\n      <th>ts2</th>\n      <th>grip</th>\n      <th>water</th>\n      <th>snow</th>\n      <th>ice</th>\n      <th>vis</th>\n    </tr>\n  </thead>\n  <tbody>\n    <tr>\n      <th>0</th>\n      <td>92</td>\n      <td>66789712</td>\n      <td>2021-04-28 00:00:00.000000</td>\n      <td>0.8</td>\n      <td>100.0</td>\n      <td>0.8</td>\n      <td>0.6</td>\n      <td>262.0</td>\n      <td>NaN</td>\n      <td>NaN</td>\n      <td>NaN</td>\n      <td>NaN</td>\n      <td>0.81</td>\n      <td>0.07</td>\n      <td>0.0</td>\n      <td>0.0</td>\n      <td>2000.0</td>\n    </tr>\n    <tr>\n      <th>1</th>\n      <td>72</td>\n      <td>69846131</td>\n      <td>2021-04-28 08:54:00.000000</td>\n      <td>13.7</td>\n      <td>25.0</td>\n      <td>-6.3</td>\n      <td>2.6</td>\n      <td>225.0</td>\n      <td>NaN</td>\n      <td>26.3</td>\n      <td>NaN</td>\n      <td>NaN</td>\n      <td>0.82</td>\n      <td>0.00</td>\n      <td>0.0</td>\n      <td>0.0</td>\n      <td>2000.0</td>\n    </tr>\n    <tr>\n      <th>2</th>\n      <td>73</td>\n      <td>69846132</td>\n      <td>2021-04-28 08:54:00.000000</td>\n      <td>13.2</td>\n      <td>24.0</td>\n      <td>-7.1</td>\n      <td>1.6</td>\n      <td>338.0</td>\n      <td>NaN</td>\n      <td>25.7</td>\n      <td>NaN</td>\n      <td>NaN</td>\n      <td>0.82</td>\n      <td>0.00</td>\n      <td>0.0</td>\n      <td>0.0</td>\n      <td>2000.0</td>\n    </tr>\n    <tr>\n      <th>3</th>\n      <td>82</td>\n      <td>69846137</td>\n      <td>2021-04-28 08:55:00.000000</td>\n      <td>13.7</td>\n      <td>24.0</td>\n      <td>-6.3</td>\n      <td>2.4</td>\n      <td>232.0</td>\n      <td>NaN</td>\n      <td>23.6</td>\n      <td>NaN</td>\n      <td>NaN</td>\n      <td>0.82</td>\n      <td>0.00</td>\n      <td>0.0</td>\n      <td>0.0</td>\n      <td>2000.0</td>\n    </tr>\n    <tr>\n      <th>4</th>\n      <td>53</td>\n      <td>69846186</td>\n      <td>2021-04-28 08:55:00.000000</td>\n      <td>13.1</td>\n      <td>23.3</td>\n      <td>-7.4</td>\n      <td>1.1</td>\n      <td>155.0</td>\n      <td>NaN</td>\n      <td>23.5</td>\n      <td>NaN</td>\n      <td>NaN</td>\n      <td>0.82</td>\n      <td>0.00</td>\n      <td>0.0</td>\n      <td>0.0</td>\n      <td>2000.0</td>\n    </tr>\n    <tr>\n      <th>...</th>\n      <td>...</td>\n      <td>...</td>\n      <td>...</td>\n      <td>...</td>\n      <td>...</td>\n      <td>...</td>\n      <td>...</td>\n      <td>...</td>\n      <td>...</td>\n      <td>...</td>\n      <td>...</td>\n      <td>...</td>\n      <td>...</td>\n      <td>...</td>\n      <td>...</td>\n      <td>...</td>\n      <td>...</td>\n    </tr>\n    <tr>\n      <th>3372568</th>\n      <td>38</td>\n      <td>77802865</td>\n      <td>2022-02-28 23:56:00.000000</td>\n      <td>-5.0</td>\n      <td>76.5</td>\n      <td>-8.5</td>\n      <td>0.3</td>\n      <td>89.0</td>\n      <td>1.0</td>\n      <td>-3.4</td>\n      <td>NaN</td>\n      <td>NaN</td>\n      <td>0.82</td>\n      <td>0.00</td>\n      <td>0.0</td>\n      <td>0.0</td>\n      <td>NaN</td>\n    </tr>\n    <tr>\n      <th>3372569</th>\n      <td>73</td>\n      <td>77802878</td>\n      <td>2022-02-28 23:58:00.000000</td>\n      <td>-2.8</td>\n      <td>62.0</td>\n      <td>-9.1</td>\n      <td>1.0</td>\n      <td>161.0</td>\n      <td>1.0</td>\n      <td>-2.9</td>\n      <td>NaN</td>\n      <td>NaN</td>\n      <td>0.82</td>\n      <td>0.00</td>\n      <td>0.0</td>\n      <td>0.0</td>\n      <td>2000.0</td>\n    </tr>\n    <tr>\n      <th>3372570</th>\n      <td>82</td>\n      <td>77802873</td>\n      <td>2022-02-28 23:58:00.000000</td>\n      <td>-0.5</td>\n      <td>54.0</td>\n      <td>-8.7</td>\n      <td>3.2</td>\n      <td>61.0</td>\n      <td>1.0</td>\n      <td>-2.1</td>\n      <td>NaN</td>\n      <td>NaN</td>\n      <td>0.82</td>\n      <td>0.00</td>\n      <td>0.0</td>\n      <td>0.0</td>\n      <td>2000.0</td>\n    </tr>\n    <tr>\n      <th>3372571</th>\n      <td>72</td>\n      <td>77802871</td>\n      <td>2022-02-28 23:58:00.000000</td>\n      <td>-0.5</td>\n      <td>54.0</td>\n      <td>-8.7</td>\n      <td>3.2</td>\n      <td>61.0</td>\n      <td>1.0</td>\n      <td>-1.8</td>\n      <td>NaN</td>\n      <td>NaN</td>\n      <td>0.82</td>\n      <td>0.00</td>\n      <td>0.0</td>\n      <td>0.0</td>\n      <td>2000.0</td>\n    </tr>\n    <tr>\n      <th>3372572</th>\n      <td>94</td>\n      <td>77802879</td>\n      <td>2022-02-28 23:59:00.000000</td>\n      <td>-2.1</td>\n      <td>66.0</td>\n      <td>-7.7</td>\n      <td>0.9</td>\n      <td>10.0</td>\n      <td>1.0</td>\n      <td>NaN</td>\n      <td>NaN</td>\n      <td>NaN</td>\n      <td>0.82</td>\n      <td>0.00</td>\n      <td>0.0</td>\n      <td>0.0</td>\n      <td>2000.0</td>\n    </tr>\n  </tbody>\n</table>\n<p>3372573 rows × 17 columns</p>\n</div>"
     },
     "execution_count": 3,
     "metadata": {},
     "output_type": "execute_result"
    }
   ],
   "source": [
    "df"
   ],
   "metadata": {
    "collapsed": false,
    "pycharm": {
     "name": "#%%\n"
    }
   }
  },
  {
   "cell_type": "code",
   "execution_count": 4,
   "outputs": [
    {
     "data": {
      "text/plain": "3372573"
     },
     "execution_count": 4,
     "metadata": {},
     "output_type": "execute_result"
    }
   ],
   "source": [
    "len(df)"
   ],
   "metadata": {
    "collapsed": false,
    "pycharm": {
     "name": "#%%\n"
    }
   }
  },
  {
   "cell_type": "code",
   "execution_count": 4,
   "outputs": [],
   "source": [],
   "metadata": {
    "collapsed": false,
    "pycharm": {
     "name": "#%%\n"
    }
   }
  },
  {
   "cell_type": "code",
   "execution_count": 5,
   "outputs": [
    {
     "data": {
      "text/plain": "3328216"
     },
     "execution_count": 5,
     "metadata": {},
     "output_type": "execute_result"
    }
   ],
   "source": [
    "# odstranime hodnoty kde zakladne meteo udaje niesu merane (temp,rh,td)\n",
    "df_clean = df[(df[\"temp\"].notna()) & (df[\"rh\"].notna()) & (df[\"td\"].notna())]\n",
    "len(df_clean)"
   ],
   "metadata": {
    "collapsed": false,
    "pycharm": {
     "name": "#%%\n"
    }
   }
  },
  {
   "cell_type": "code",
   "execution_count": 6,
   "outputs": [
    {
     "name": "stderr",
     "output_type": "stream",
     "text": [
      "/tmp/ipykernel_98383/2689807324.py:2: UserWarning: Boolean Series key will be reindexed to match DataFrame index.\n",
      "  df_clean = df_clean[\n"
     ]
    },
    {
     "data": {
      "text/plain": "2458835"
     },
     "execution_count": 6,
     "metadata": {},
     "output_type": "execute_result"
    }
   ],
   "source": [
    "# odstranime take merania ktore pri cestnom senzore chyba 1 z hodnot (st[1,2] != nan & ts[1,2] != nan)\n",
    "df_clean = df_clean[\n",
    "    ((df_clean[\"st1\"].notna()) & (df[\"ts1\"].notna())) | ((df_clean[\"st2\"].notna()) & (df[\"ts2\"].notna()))]\n",
    "# df_clean = df_clean[(df_clean[\"st2\"].notna()) & (df[\"ts2\"].notna())]\n",
    "len(df_clean)"
   ],
   "metadata": {
    "collapsed": false,
    "pycharm": {
     "name": "#%%\n"
    }
   }
  },
  {
   "cell_type": "code",
   "execution_count": 7,
   "outputs": [
    {
     "data": {
      "text/plain": "1889362"
     },
     "execution_count": 7,
     "metadata": {},
     "output_type": "execute_result"
    }
   ],
   "source": [
    "# odstranime take merania ktore nemaju udaj o gripe\n",
    "df_clean = df_clean[(df_clean[\"grip\"].notna())]\n",
    "len(df_clean)"
   ],
   "metadata": {
    "collapsed": false,
    "pycharm": {
     "name": "#%%\n"
    }
   }
  },
  {
   "cell_type": "code",
   "execution_count": 8,
   "outputs": [
    {
     "data": {
      "text/plain": "Series([], Name: st2, dtype: int64)"
     },
     "execution_count": 8,
     "metadata": {},
     "output_type": "execute_result"
    }
   ],
   "source": [
    "#dropneme prazdny stlpec st2\n",
    "df_clean[\"st2\"].value_counts()"
   ],
   "metadata": {
    "collapsed": false,
    "pycharm": {
     "name": "#%%\n"
    }
   }
  },
  {
   "cell_type": "code",
   "execution_count": 9,
   "outputs": [
    {
     "data": {
      "text/plain": "Series([], Name: ts2, dtype: int64)"
     },
     "execution_count": 9,
     "metadata": {},
     "output_type": "execute_result"
    }
   ],
   "source": [
    "#dropneme prazdny stlpec ts2\n",
    "df_clean[\"ts2\"].value_counts()"
   ],
   "metadata": {
    "collapsed": false,
    "pycharm": {
     "name": "#%%\n"
    }
   }
  },
  {
   "cell_type": "code",
   "execution_count": 10,
   "outputs": [],
   "source": [
    "df_clean = df_clean.drop(columns=[\"st2\", \"ts2\"])\n"
   ],
   "metadata": {
    "collapsed": false,
    "pycharm": {
     "name": "#%%\n"
    }
   }
  },
  {
   "cell_type": "code",
   "execution_count": 11,
   "outputs": [
    {
     "data": {
      "text/plain": "1642398"
     },
     "execution_count": 11,
     "metadata": {},
     "output_type": "execute_result"
    }
   ],
   "source": [
    "# zrusime stnaice ktore niesu cely rok\n",
    "df_clean = df_clean[(df_clean[\"station_id\"] != 1) & (df_clean[\"station_id\"] != 38)]\n",
    "len(df_clean)\n"
   ],
   "metadata": {
    "collapsed": false,
    "pycharm": {
     "name": "#%%\n"
    }
   }
  },
  {
   "cell_type": "code",
   "execution_count": 12,
   "outputs": [
    {
     "data": {
      "text/plain": "82    343076\n73    342994\n72    342853\n50    204779\n53    204554\n54    204142\nName: station_id, dtype: int64"
     },
     "execution_count": 12,
     "metadata": {},
     "output_type": "execute_result"
    }
   ],
   "source": [
    "df_clean['station_id'].value_counts()"
   ],
   "metadata": {
    "collapsed": false,
    "pycharm": {
     "name": "#%%\n"
    }
   }
  },
  {
   "cell_type": "code",
   "execution_count": 13,
   "outputs": [
    {
     "data": {
      "text/plain": "1642394"
     },
     "execution_count": 13,
     "metadata": {},
     "output_type": "execute_result"
    }
   ],
   "source": [
    "\n",
    "# zmazeme 4 zaznamy ktore nemaju vis (vsetky nan okrem ws,wd)\n",
    "df_clean = df_clean.drop(df_clean[df_clean.drop(columns=['ws', 'wd']).isna().any(axis=1)].index)\n",
    "len(df_clean)\n",
    "\n",
    "# len(df_clean.dropna())"
   ],
   "metadata": {
    "collapsed": false,
    "pycharm": {
     "name": "#%%\n"
    }
   }
  },
  {
   "cell_type": "code",
   "execution_count": 14,
   "outputs": [],
   "source": [
    "# vytvorime timestamp z merania\n",
    "df_clean['mes_datetime'] = df_clean['mes_datetime'].apply(lambda x: x[:-7])\n",
    "\n",
    "df_clean['timestamp'] = df_clean['mes_datetime'].apply(lambda x: pd.Timestamp(x).value)"
   ],
   "metadata": {
    "collapsed": false,
    "pycharm": {
     "name": "#%%\n"
    }
   }
  },
  {
   "cell_type": "code",
   "execution_count": 15,
   "outputs": [
    {
     "data": {
      "text/plain": "82    50967\n72    43622\n73    42592\n50    33276\n54    33126\n53    25116\nName: station_id, dtype: int64"
     },
     "execution_count": 15,
     "metadata": {},
     "output_type": "execute_result"
    }
   ],
   "source": [
    "df_clean = df_clean.groupby(\"timestamp\").head(1)\n",
    "df_clean['station_id'].value_counts()"
   ],
   "metadata": {
    "collapsed": false,
    "pycharm": {
     "name": "#%%\n"
    }
   }
  },
  {
   "cell_type": "code",
   "execution_count": 16,
   "outputs": [
    {
     "data": {
      "text/plain": "         0  1  2\n16896    0  0  1\n16920    0  0  1\n16930    0  0  1\n16932    0  0  1\n16956    0  0  1\n...     .. .. ..\n3372501  0  0  1\n3372528  0  0  1\n3372533  0  0  1\n3372559  1  0  1\n3372569  0  0  1\n\n[228699 rows x 3 columns]",
      "text/html": "<div>\n<style scoped>\n    .dataframe tbody tr th:only-of-type {\n        vertical-align: middle;\n    }\n\n    .dataframe tbody tr th {\n        vertical-align: top;\n    }\n\n    .dataframe thead th {\n        text-align: right;\n    }\n</style>\n<table border=\"1\" class=\"dataframe\">\n  <thead>\n    <tr style=\"text-align: right;\">\n      <th></th>\n      <th>0</th>\n      <th>1</th>\n      <th>2</th>\n    </tr>\n  </thead>\n  <tbody>\n    <tr>\n      <th>16896</th>\n      <td>0</td>\n      <td>0</td>\n      <td>1</td>\n    </tr>\n    <tr>\n      <th>16920</th>\n      <td>0</td>\n      <td>0</td>\n      <td>1</td>\n    </tr>\n    <tr>\n      <th>16930</th>\n      <td>0</td>\n      <td>0</td>\n      <td>1</td>\n    </tr>\n    <tr>\n      <th>16932</th>\n      <td>0</td>\n      <td>0</td>\n      <td>1</td>\n    </tr>\n    <tr>\n      <th>16956</th>\n      <td>0</td>\n      <td>0</td>\n      <td>1</td>\n    </tr>\n    <tr>\n      <th>...</th>\n      <td>...</td>\n      <td>...</td>\n      <td>...</td>\n    </tr>\n    <tr>\n      <th>3372501</th>\n      <td>0</td>\n      <td>0</td>\n      <td>1</td>\n    </tr>\n    <tr>\n      <th>3372528</th>\n      <td>0</td>\n      <td>0</td>\n      <td>1</td>\n    </tr>\n    <tr>\n      <th>3372533</th>\n      <td>0</td>\n      <td>0</td>\n      <td>1</td>\n    </tr>\n    <tr>\n      <th>3372559</th>\n      <td>1</td>\n      <td>0</td>\n      <td>1</td>\n    </tr>\n    <tr>\n      <th>3372569</th>\n      <td>0</td>\n      <td>0</td>\n      <td>1</td>\n    </tr>\n  </tbody>\n</table>\n<p>228699 rows × 3 columns</p>\n</div>"
     },
     "execution_count": 16,
     "metadata": {},
     "output_type": "execute_result"
    }
   ],
   "source": [
    "\n",
    "aa = df_clean.st1.apply(lambda x: pd.Series(list(str(int(x)).zfill(3))).astype(int))\n",
    "aa"
   ],
   "metadata": {
    "collapsed": false,
    "pycharm": {
     "name": "#%%\n"
    }
   }
  },
  {
   "cell_type": "code",
   "execution_count": 17,
   "outputs": [],
   "source": [
    "df_clean = pd.concat([df_clean, aa], axis=1, join=\"inner\")\n",
    "df_clean = df_clean.rename(columns={0: \"warning\", 1: \"rain\", 2: \"surface_state\"})\n"
   ],
   "metadata": {
    "collapsed": false,
    "pycharm": {
     "name": "#%%\n"
    }
   }
  },
  {
   "cell_type": "code",
   "execution_count": 18,
   "outputs": [
    {
     "data": {
      "text/plain": "         station_id     vc_id         mes_datetime  temp    rh   td   ws  \\\n16896            72  69959032  2021-05-02 22:09:00   9.1  67.0  3.4  5.7   \n16920            50  69959104  2021-05-02 22:10:00   8.9  68.4  3.4  3.2   \n16930            73  69959113  2021-05-02 22:12:00   8.6  69.0  3.3  2.0   \n16932            82  69959114  2021-05-02 22:13:00   9.1  67.0  3.3  5.4   \n16956            54  69959189  2021-05-02 22:15:00   8.1  66.1  2.2  3.6   \n...             ...       ...                  ...   ...   ...  ...  ...   \n3372501          82  77802691  2022-02-28 23:49:00  -0.6  55.0 -8.5  1.9   \n3372528          54  77802770  2022-02-28 23:50:00  -2.3  65.7 -7.9  2.8   \n3372533          72  77802779  2022-02-28 23:52:00  -0.6  54.0 -8.7  2.5   \n3372559          50  77802868  2022-02-28 23:55:00  -2.3  64.6 -8.1  1.6   \n3372569          73  77802878  2022-02-28 23:58:00  -2.8  62.0 -9.1  1.0   \n\n            wd    st1   ts1  grip  water  snow  ice     vis  \\\n16896    262.0    1.0  10.7  0.82    0.0  0.00  0.0  2000.0   \n16920    149.0    1.0  10.1  0.82    0.0  0.00  0.0  2000.0   \n16930     26.0    1.0  11.0  0.82    0.0  0.00  0.0  2000.0   \n16932    261.0    1.0   9.9  0.82    0.0  0.00  0.0  2000.0   \n16956    307.0    1.0  10.8  0.82    0.0  0.00  0.0  2000.0   \n...        ...    ...   ...   ...    ...   ...  ...     ...   \n3372501   63.0    1.0  -2.1  0.82    0.0  0.00  0.0  2000.0   \n3372528   20.0    1.0  -2.6  0.82    0.0  0.00  0.0  2000.0   \n3372533   58.0    1.0  -1.6  0.82    0.0  0.00  0.0  2000.0   \n3372559  317.0  101.0  -2.0  0.60    0.0  0.01  0.0  2000.0   \n3372569  161.0    1.0  -2.9  0.82    0.0  0.00  0.0  2000.0   \n\n                   timestamp  warning  rain  surface_state  \n16896    1619993340000000000        0     0              1  \n16920    1619993400000000000        0     0              1  \n16930    1619993520000000000        0     0              1  \n16932    1619993580000000000        0     0              1  \n16956    1619993700000000000        0     0              1  \n...                      ...      ...   ...            ...  \n3372501  1646092140000000000        0     0              1  \n3372528  1646092200000000000        0     0              1  \n3372533  1646092320000000000        0     0              1  \n3372559  1646092500000000000        1     0              1  \n3372569  1646092680000000000        0     0              1  \n\n[228699 rows x 19 columns]",
      "text/html": "<div>\n<style scoped>\n    .dataframe tbody tr th:only-of-type {\n        vertical-align: middle;\n    }\n\n    .dataframe tbody tr th {\n        vertical-align: top;\n    }\n\n    .dataframe thead th {\n        text-align: right;\n    }\n</style>\n<table border=\"1\" class=\"dataframe\">\n  <thead>\n    <tr style=\"text-align: right;\">\n      <th></th>\n      <th>station_id</th>\n      <th>vc_id</th>\n      <th>mes_datetime</th>\n      <th>temp</th>\n      <th>rh</th>\n      <th>td</th>\n      <th>ws</th>\n      <th>wd</th>\n      <th>st1</th>\n      <th>ts1</th>\n      <th>grip</th>\n      <th>water</th>\n      <th>snow</th>\n      <th>ice</th>\n      <th>vis</th>\n      <th>timestamp</th>\n      <th>warning</th>\n      <th>rain</th>\n      <th>surface_state</th>\n    </tr>\n  </thead>\n  <tbody>\n    <tr>\n      <th>16896</th>\n      <td>72</td>\n      <td>69959032</td>\n      <td>2021-05-02 22:09:00</td>\n      <td>9.1</td>\n      <td>67.0</td>\n      <td>3.4</td>\n      <td>5.7</td>\n      <td>262.0</td>\n      <td>1.0</td>\n      <td>10.7</td>\n      <td>0.82</td>\n      <td>0.0</td>\n      <td>0.00</td>\n      <td>0.0</td>\n      <td>2000.0</td>\n      <td>1619993340000000000</td>\n      <td>0</td>\n      <td>0</td>\n      <td>1</td>\n    </tr>\n    <tr>\n      <th>16920</th>\n      <td>50</td>\n      <td>69959104</td>\n      <td>2021-05-02 22:10:00</td>\n      <td>8.9</td>\n      <td>68.4</td>\n      <td>3.4</td>\n      <td>3.2</td>\n      <td>149.0</td>\n      <td>1.0</td>\n      <td>10.1</td>\n      <td>0.82</td>\n      <td>0.0</td>\n      <td>0.00</td>\n      <td>0.0</td>\n      <td>2000.0</td>\n      <td>1619993400000000000</td>\n      <td>0</td>\n      <td>0</td>\n      <td>1</td>\n    </tr>\n    <tr>\n      <th>16930</th>\n      <td>73</td>\n      <td>69959113</td>\n      <td>2021-05-02 22:12:00</td>\n      <td>8.6</td>\n      <td>69.0</td>\n      <td>3.3</td>\n      <td>2.0</td>\n      <td>26.0</td>\n      <td>1.0</td>\n      <td>11.0</td>\n      <td>0.82</td>\n      <td>0.0</td>\n      <td>0.00</td>\n      <td>0.0</td>\n      <td>2000.0</td>\n      <td>1619993520000000000</td>\n      <td>0</td>\n      <td>0</td>\n      <td>1</td>\n    </tr>\n    <tr>\n      <th>16932</th>\n      <td>82</td>\n      <td>69959114</td>\n      <td>2021-05-02 22:13:00</td>\n      <td>9.1</td>\n      <td>67.0</td>\n      <td>3.3</td>\n      <td>5.4</td>\n      <td>261.0</td>\n      <td>1.0</td>\n      <td>9.9</td>\n      <td>0.82</td>\n      <td>0.0</td>\n      <td>0.00</td>\n      <td>0.0</td>\n      <td>2000.0</td>\n      <td>1619993580000000000</td>\n      <td>0</td>\n      <td>0</td>\n      <td>1</td>\n    </tr>\n    <tr>\n      <th>16956</th>\n      <td>54</td>\n      <td>69959189</td>\n      <td>2021-05-02 22:15:00</td>\n      <td>8.1</td>\n      <td>66.1</td>\n      <td>2.2</td>\n      <td>3.6</td>\n      <td>307.0</td>\n      <td>1.0</td>\n      <td>10.8</td>\n      <td>0.82</td>\n      <td>0.0</td>\n      <td>0.00</td>\n      <td>0.0</td>\n      <td>2000.0</td>\n      <td>1619993700000000000</td>\n      <td>0</td>\n      <td>0</td>\n      <td>1</td>\n    </tr>\n    <tr>\n      <th>...</th>\n      <td>...</td>\n      <td>...</td>\n      <td>...</td>\n      <td>...</td>\n      <td>...</td>\n      <td>...</td>\n      <td>...</td>\n      <td>...</td>\n      <td>...</td>\n      <td>...</td>\n      <td>...</td>\n      <td>...</td>\n      <td>...</td>\n      <td>...</td>\n      <td>...</td>\n      <td>...</td>\n      <td>...</td>\n      <td>...</td>\n      <td>...</td>\n    </tr>\n    <tr>\n      <th>3372501</th>\n      <td>82</td>\n      <td>77802691</td>\n      <td>2022-02-28 23:49:00</td>\n      <td>-0.6</td>\n      <td>55.0</td>\n      <td>-8.5</td>\n      <td>1.9</td>\n      <td>63.0</td>\n      <td>1.0</td>\n      <td>-2.1</td>\n      <td>0.82</td>\n      <td>0.0</td>\n      <td>0.00</td>\n      <td>0.0</td>\n      <td>2000.0</td>\n      <td>1646092140000000000</td>\n      <td>0</td>\n      <td>0</td>\n      <td>1</td>\n    </tr>\n    <tr>\n      <th>3372528</th>\n      <td>54</td>\n      <td>77802770</td>\n      <td>2022-02-28 23:50:00</td>\n      <td>-2.3</td>\n      <td>65.7</td>\n      <td>-7.9</td>\n      <td>2.8</td>\n      <td>20.0</td>\n      <td>1.0</td>\n      <td>-2.6</td>\n      <td>0.82</td>\n      <td>0.0</td>\n      <td>0.00</td>\n      <td>0.0</td>\n      <td>2000.0</td>\n      <td>1646092200000000000</td>\n      <td>0</td>\n      <td>0</td>\n      <td>1</td>\n    </tr>\n    <tr>\n      <th>3372533</th>\n      <td>72</td>\n      <td>77802779</td>\n      <td>2022-02-28 23:52:00</td>\n      <td>-0.6</td>\n      <td>54.0</td>\n      <td>-8.7</td>\n      <td>2.5</td>\n      <td>58.0</td>\n      <td>1.0</td>\n      <td>-1.6</td>\n      <td>0.82</td>\n      <td>0.0</td>\n      <td>0.00</td>\n      <td>0.0</td>\n      <td>2000.0</td>\n      <td>1646092320000000000</td>\n      <td>0</td>\n      <td>0</td>\n      <td>1</td>\n    </tr>\n    <tr>\n      <th>3372559</th>\n      <td>50</td>\n      <td>77802868</td>\n      <td>2022-02-28 23:55:00</td>\n      <td>-2.3</td>\n      <td>64.6</td>\n      <td>-8.1</td>\n      <td>1.6</td>\n      <td>317.0</td>\n      <td>101.0</td>\n      <td>-2.0</td>\n      <td>0.60</td>\n      <td>0.0</td>\n      <td>0.01</td>\n      <td>0.0</td>\n      <td>2000.0</td>\n      <td>1646092500000000000</td>\n      <td>1</td>\n      <td>0</td>\n      <td>1</td>\n    </tr>\n    <tr>\n      <th>3372569</th>\n      <td>73</td>\n      <td>77802878</td>\n      <td>2022-02-28 23:58:00</td>\n      <td>-2.8</td>\n      <td>62.0</td>\n      <td>-9.1</td>\n      <td>1.0</td>\n      <td>161.0</td>\n      <td>1.0</td>\n      <td>-2.9</td>\n      <td>0.82</td>\n      <td>0.0</td>\n      <td>0.00</td>\n      <td>0.0</td>\n      <td>2000.0</td>\n      <td>1646092680000000000</td>\n      <td>0</td>\n      <td>0</td>\n      <td>1</td>\n    </tr>\n  </tbody>\n</table>\n<p>228699 rows × 19 columns</p>\n</div>"
     },
     "execution_count": 18,
     "metadata": {},
     "output_type": "execute_result"
    }
   ],
   "source": [
    "df_clean"
   ],
   "metadata": {
    "collapsed": false,
    "pycharm": {
     "name": "#%%\n"
    }
   }
  },
  {
   "cell_type": "code",
   "execution_count": 19,
   "outputs": [
    {
     "data": {
      "text/plain": "         surface_state_0  surface_state_1  surface_state_2  surface_state_3  \\\n16896                  0                1                0                0   \n16920                  0                1                0                0   \n16930                  0                1                0                0   \n16932                  0                1                0                0   \n16956                  0                1                0                0   \n...                  ...              ...              ...              ...   \n3372501                0                1                0                0   \n3372528                0                1                0                0   \n3372533                0                1                0                0   \n3372559                0                1                0                0   \n3372569                0                1                0                0   \n\n         surface_state_5  surface_state_6  surface_state_7  surface_state_9  \n16896                  0                0                0                0  \n16920                  0                0                0                0  \n16930                  0                0                0                0  \n16932                  0                0                0                0  \n16956                  0                0                0                0  \n...                  ...              ...              ...              ...  \n3372501                0                0                0                0  \n3372528                0                0                0                0  \n3372533                0                0                0                0  \n3372559                0                0                0                0  \n3372569                0                0                0                0  \n\n[228699 rows x 8 columns]",
      "text/html": "<div>\n<style scoped>\n    .dataframe tbody tr th:only-of-type {\n        vertical-align: middle;\n    }\n\n    .dataframe tbody tr th {\n        vertical-align: top;\n    }\n\n    .dataframe thead th {\n        text-align: right;\n    }\n</style>\n<table border=\"1\" class=\"dataframe\">\n  <thead>\n    <tr style=\"text-align: right;\">\n      <th></th>\n      <th>surface_state_0</th>\n      <th>surface_state_1</th>\n      <th>surface_state_2</th>\n      <th>surface_state_3</th>\n      <th>surface_state_5</th>\n      <th>surface_state_6</th>\n      <th>surface_state_7</th>\n      <th>surface_state_9</th>\n    </tr>\n  </thead>\n  <tbody>\n    <tr>\n      <th>16896</th>\n      <td>0</td>\n      <td>1</td>\n      <td>0</td>\n      <td>0</td>\n      <td>0</td>\n      <td>0</td>\n      <td>0</td>\n      <td>0</td>\n    </tr>\n    <tr>\n      <th>16920</th>\n      <td>0</td>\n      <td>1</td>\n      <td>0</td>\n      <td>0</td>\n      <td>0</td>\n      <td>0</td>\n      <td>0</td>\n      <td>0</td>\n    </tr>\n    <tr>\n      <th>16930</th>\n      <td>0</td>\n      <td>1</td>\n      <td>0</td>\n      <td>0</td>\n      <td>0</td>\n      <td>0</td>\n      <td>0</td>\n      <td>0</td>\n    </tr>\n    <tr>\n      <th>16932</th>\n      <td>0</td>\n      <td>1</td>\n      <td>0</td>\n      <td>0</td>\n      <td>0</td>\n      <td>0</td>\n      <td>0</td>\n      <td>0</td>\n    </tr>\n    <tr>\n      <th>16956</th>\n      <td>0</td>\n      <td>1</td>\n      <td>0</td>\n      <td>0</td>\n      <td>0</td>\n      <td>0</td>\n      <td>0</td>\n      <td>0</td>\n    </tr>\n    <tr>\n      <th>...</th>\n      <td>...</td>\n      <td>...</td>\n      <td>...</td>\n      <td>...</td>\n      <td>...</td>\n      <td>...</td>\n      <td>...</td>\n      <td>...</td>\n    </tr>\n    <tr>\n      <th>3372501</th>\n      <td>0</td>\n      <td>1</td>\n      <td>0</td>\n      <td>0</td>\n      <td>0</td>\n      <td>0</td>\n      <td>0</td>\n      <td>0</td>\n    </tr>\n    <tr>\n      <th>3372528</th>\n      <td>0</td>\n      <td>1</td>\n      <td>0</td>\n      <td>0</td>\n      <td>0</td>\n      <td>0</td>\n      <td>0</td>\n      <td>0</td>\n    </tr>\n    <tr>\n      <th>3372533</th>\n      <td>0</td>\n      <td>1</td>\n      <td>0</td>\n      <td>0</td>\n      <td>0</td>\n      <td>0</td>\n      <td>0</td>\n      <td>0</td>\n    </tr>\n    <tr>\n      <th>3372559</th>\n      <td>0</td>\n      <td>1</td>\n      <td>0</td>\n      <td>0</td>\n      <td>0</td>\n      <td>0</td>\n      <td>0</td>\n      <td>0</td>\n    </tr>\n    <tr>\n      <th>3372569</th>\n      <td>0</td>\n      <td>1</td>\n      <td>0</td>\n      <td>0</td>\n      <td>0</td>\n      <td>0</td>\n      <td>0</td>\n      <td>0</td>\n    </tr>\n  </tbody>\n</table>\n<p>228699 rows × 8 columns</p>\n</div>"
     },
     "execution_count": 19,
     "metadata": {},
     "output_type": "execute_result"
    }
   ],
   "source": [
    "dumm = pd.get_dummies(df_clean.surface_state, prefix='surface_state')\n",
    "dumm"
   ],
   "metadata": {
    "collapsed": false,
    "pycharm": {
     "name": "#%%\n"
    }
   }
  },
  {
   "cell_type": "code",
   "execution_count": 20,
   "outputs": [
    {
     "data": {
      "text/plain": "         station_id     vc_id         mes_datetime  temp    rh   td   ws  \\\n16896            72  69959032  2021-05-02 22:09:00   9.1  67.0  3.4  5.7   \n16920            50  69959104  2021-05-02 22:10:00   8.9  68.4  3.4  3.2   \n16930            73  69959113  2021-05-02 22:12:00   8.6  69.0  3.3  2.0   \n16932            82  69959114  2021-05-02 22:13:00   9.1  67.0  3.3  5.4   \n16956            54  69959189  2021-05-02 22:15:00   8.1  66.1  2.2  3.6   \n...             ...       ...                  ...   ...   ...  ...  ...   \n3372501          82  77802691  2022-02-28 23:49:00  -0.6  55.0 -8.5  1.9   \n3372528          54  77802770  2022-02-28 23:50:00  -2.3  65.7 -7.9  2.8   \n3372533          72  77802779  2022-02-28 23:52:00  -0.6  54.0 -8.7  2.5   \n3372559          50  77802868  2022-02-28 23:55:00  -2.3  64.6 -8.1  1.6   \n3372569          73  77802878  2022-02-28 23:58:00  -2.8  62.0 -9.1  1.0   \n\n            wd    st1   ts1  ...  rain  surface_state  surface_state_0  \\\n16896    262.0    1.0  10.7  ...     0              1                0   \n16920    149.0    1.0  10.1  ...     0              1                0   \n16930     26.0    1.0  11.0  ...     0              1                0   \n16932    261.0    1.0   9.9  ...     0              1                0   \n16956    307.0    1.0  10.8  ...     0              1                0   \n...        ...    ...   ...  ...   ...            ...              ...   \n3372501   63.0    1.0  -2.1  ...     0              1                0   \n3372528   20.0    1.0  -2.6  ...     0              1                0   \n3372533   58.0    1.0  -1.6  ...     0              1                0   \n3372559  317.0  101.0  -2.0  ...     0              1                0   \n3372569  161.0    1.0  -2.9  ...     0              1                0   \n\n         surface_state_1  surface_state_2  surface_state_3  surface_state_5  \\\n16896                  1                0                0                0   \n16920                  1                0                0                0   \n16930                  1                0                0                0   \n16932                  1                0                0                0   \n16956                  1                0                0                0   \n...                  ...              ...              ...              ...   \n3372501                1                0                0                0   \n3372528                1                0                0                0   \n3372533                1                0                0                0   \n3372559                1                0                0                0   \n3372569                1                0                0                0   \n\n         surface_state_6  surface_state_7  surface_state_9  \n16896                  0                0                0  \n16920                  0                0                0  \n16930                  0                0                0  \n16932                  0                0                0  \n16956                  0                0                0  \n...                  ...              ...              ...  \n3372501                0                0                0  \n3372528                0                0                0  \n3372533                0                0                0  \n3372559                0                0                0  \n3372569                0                0                0  \n\n[228699 rows x 27 columns]",
      "text/html": "<div>\n<style scoped>\n    .dataframe tbody tr th:only-of-type {\n        vertical-align: middle;\n    }\n\n    .dataframe tbody tr th {\n        vertical-align: top;\n    }\n\n    .dataframe thead th {\n        text-align: right;\n    }\n</style>\n<table border=\"1\" class=\"dataframe\">\n  <thead>\n    <tr style=\"text-align: right;\">\n      <th></th>\n      <th>station_id</th>\n      <th>vc_id</th>\n      <th>mes_datetime</th>\n      <th>temp</th>\n      <th>rh</th>\n      <th>td</th>\n      <th>ws</th>\n      <th>wd</th>\n      <th>st1</th>\n      <th>ts1</th>\n      <th>...</th>\n      <th>rain</th>\n      <th>surface_state</th>\n      <th>surface_state_0</th>\n      <th>surface_state_1</th>\n      <th>surface_state_2</th>\n      <th>surface_state_3</th>\n      <th>surface_state_5</th>\n      <th>surface_state_6</th>\n      <th>surface_state_7</th>\n      <th>surface_state_9</th>\n    </tr>\n  </thead>\n  <tbody>\n    <tr>\n      <th>16896</th>\n      <td>72</td>\n      <td>69959032</td>\n      <td>2021-05-02 22:09:00</td>\n      <td>9.1</td>\n      <td>67.0</td>\n      <td>3.4</td>\n      <td>5.7</td>\n      <td>262.0</td>\n      <td>1.0</td>\n      <td>10.7</td>\n      <td>...</td>\n      <td>0</td>\n      <td>1</td>\n      <td>0</td>\n      <td>1</td>\n      <td>0</td>\n      <td>0</td>\n      <td>0</td>\n      <td>0</td>\n      <td>0</td>\n      <td>0</td>\n    </tr>\n    <tr>\n      <th>16920</th>\n      <td>50</td>\n      <td>69959104</td>\n      <td>2021-05-02 22:10:00</td>\n      <td>8.9</td>\n      <td>68.4</td>\n      <td>3.4</td>\n      <td>3.2</td>\n      <td>149.0</td>\n      <td>1.0</td>\n      <td>10.1</td>\n      <td>...</td>\n      <td>0</td>\n      <td>1</td>\n      <td>0</td>\n      <td>1</td>\n      <td>0</td>\n      <td>0</td>\n      <td>0</td>\n      <td>0</td>\n      <td>0</td>\n      <td>0</td>\n    </tr>\n    <tr>\n      <th>16930</th>\n      <td>73</td>\n      <td>69959113</td>\n      <td>2021-05-02 22:12:00</td>\n      <td>8.6</td>\n      <td>69.0</td>\n      <td>3.3</td>\n      <td>2.0</td>\n      <td>26.0</td>\n      <td>1.0</td>\n      <td>11.0</td>\n      <td>...</td>\n      <td>0</td>\n      <td>1</td>\n      <td>0</td>\n      <td>1</td>\n      <td>0</td>\n      <td>0</td>\n      <td>0</td>\n      <td>0</td>\n      <td>0</td>\n      <td>0</td>\n    </tr>\n    <tr>\n      <th>16932</th>\n      <td>82</td>\n      <td>69959114</td>\n      <td>2021-05-02 22:13:00</td>\n      <td>9.1</td>\n      <td>67.0</td>\n      <td>3.3</td>\n      <td>5.4</td>\n      <td>261.0</td>\n      <td>1.0</td>\n      <td>9.9</td>\n      <td>...</td>\n      <td>0</td>\n      <td>1</td>\n      <td>0</td>\n      <td>1</td>\n      <td>0</td>\n      <td>0</td>\n      <td>0</td>\n      <td>0</td>\n      <td>0</td>\n      <td>0</td>\n    </tr>\n    <tr>\n      <th>16956</th>\n      <td>54</td>\n      <td>69959189</td>\n      <td>2021-05-02 22:15:00</td>\n      <td>8.1</td>\n      <td>66.1</td>\n      <td>2.2</td>\n      <td>3.6</td>\n      <td>307.0</td>\n      <td>1.0</td>\n      <td>10.8</td>\n      <td>...</td>\n      <td>0</td>\n      <td>1</td>\n      <td>0</td>\n      <td>1</td>\n      <td>0</td>\n      <td>0</td>\n      <td>0</td>\n      <td>0</td>\n      <td>0</td>\n      <td>0</td>\n    </tr>\n    <tr>\n      <th>...</th>\n      <td>...</td>\n      <td>...</td>\n      <td>...</td>\n      <td>...</td>\n      <td>...</td>\n      <td>...</td>\n      <td>...</td>\n      <td>...</td>\n      <td>...</td>\n      <td>...</td>\n      <td>...</td>\n      <td>...</td>\n      <td>...</td>\n      <td>...</td>\n      <td>...</td>\n      <td>...</td>\n      <td>...</td>\n      <td>...</td>\n      <td>...</td>\n      <td>...</td>\n      <td>...</td>\n    </tr>\n    <tr>\n      <th>3372501</th>\n      <td>82</td>\n      <td>77802691</td>\n      <td>2022-02-28 23:49:00</td>\n      <td>-0.6</td>\n      <td>55.0</td>\n      <td>-8.5</td>\n      <td>1.9</td>\n      <td>63.0</td>\n      <td>1.0</td>\n      <td>-2.1</td>\n      <td>...</td>\n      <td>0</td>\n      <td>1</td>\n      <td>0</td>\n      <td>1</td>\n      <td>0</td>\n      <td>0</td>\n      <td>0</td>\n      <td>0</td>\n      <td>0</td>\n      <td>0</td>\n    </tr>\n    <tr>\n      <th>3372528</th>\n      <td>54</td>\n      <td>77802770</td>\n      <td>2022-02-28 23:50:00</td>\n      <td>-2.3</td>\n      <td>65.7</td>\n      <td>-7.9</td>\n      <td>2.8</td>\n      <td>20.0</td>\n      <td>1.0</td>\n      <td>-2.6</td>\n      <td>...</td>\n      <td>0</td>\n      <td>1</td>\n      <td>0</td>\n      <td>1</td>\n      <td>0</td>\n      <td>0</td>\n      <td>0</td>\n      <td>0</td>\n      <td>0</td>\n      <td>0</td>\n    </tr>\n    <tr>\n      <th>3372533</th>\n      <td>72</td>\n      <td>77802779</td>\n      <td>2022-02-28 23:52:00</td>\n      <td>-0.6</td>\n      <td>54.0</td>\n      <td>-8.7</td>\n      <td>2.5</td>\n      <td>58.0</td>\n      <td>1.0</td>\n      <td>-1.6</td>\n      <td>...</td>\n      <td>0</td>\n      <td>1</td>\n      <td>0</td>\n      <td>1</td>\n      <td>0</td>\n      <td>0</td>\n      <td>0</td>\n      <td>0</td>\n      <td>0</td>\n      <td>0</td>\n    </tr>\n    <tr>\n      <th>3372559</th>\n      <td>50</td>\n      <td>77802868</td>\n      <td>2022-02-28 23:55:00</td>\n      <td>-2.3</td>\n      <td>64.6</td>\n      <td>-8.1</td>\n      <td>1.6</td>\n      <td>317.0</td>\n      <td>101.0</td>\n      <td>-2.0</td>\n      <td>...</td>\n      <td>0</td>\n      <td>1</td>\n      <td>0</td>\n      <td>1</td>\n      <td>0</td>\n      <td>0</td>\n      <td>0</td>\n      <td>0</td>\n      <td>0</td>\n      <td>0</td>\n    </tr>\n    <tr>\n      <th>3372569</th>\n      <td>73</td>\n      <td>77802878</td>\n      <td>2022-02-28 23:58:00</td>\n      <td>-2.8</td>\n      <td>62.0</td>\n      <td>-9.1</td>\n      <td>1.0</td>\n      <td>161.0</td>\n      <td>1.0</td>\n      <td>-2.9</td>\n      <td>...</td>\n      <td>0</td>\n      <td>1</td>\n      <td>0</td>\n      <td>1</td>\n      <td>0</td>\n      <td>0</td>\n      <td>0</td>\n      <td>0</td>\n      <td>0</td>\n      <td>0</td>\n    </tr>\n  </tbody>\n</table>\n<p>228699 rows × 27 columns</p>\n</div>"
     },
     "execution_count": 20,
     "metadata": {},
     "output_type": "execute_result"
    }
   ],
   "source": [
    "df_clean = pd.concat([df_clean, dumm], axis=1)\n",
    "df_clean"
   ],
   "metadata": {
    "collapsed": false,
    "pycharm": {
     "name": "#%%\n"
    }
   }
  },
  {
   "cell_type": "code",
   "execution_count": 21,
   "outputs": [
    {
     "ename": "NameError",
     "evalue": "name 'xxxx' is not defined",
     "output_type": "error",
     "traceback": [
      "\u001B[0;31m---------------------------------------------------------------------------\u001B[0m",
      "\u001B[0;31mNameError\u001B[0m                                 Traceback (most recent call last)",
      "Input \u001B[0;32mIn [21]\u001B[0m, in \u001B[0;36m<cell line: 12>\u001B[0;34m()\u001B[0m\n\u001B[1;32m      1\u001B[0m df_clean \u001B[38;5;241m=\u001B[39m df_clean\u001B[38;5;241m.\u001B[39mrename(columns\u001B[38;5;241m=\u001B[39m{\n\u001B[1;32m      2\u001B[0m     \u001B[38;5;124m\"\u001B[39m\u001B[38;5;124msurface_state_0\u001B[39m\u001B[38;5;124m\"\u001B[39m: \u001B[38;5;124m\"\u001B[39m\u001B[38;5;124msurface_state_error\u001B[39m\u001B[38;5;124m\"\u001B[39m,\n\u001B[1;32m      3\u001B[0m     \u001B[38;5;124m\"\u001B[39m\u001B[38;5;124msurface_state_1\u001B[39m\u001B[38;5;124m\"\u001B[39m: \u001B[38;5;124m\"\u001B[39m\u001B[38;5;124msurface_state_dry\u001B[39m\u001B[38;5;124m\"\u001B[39m,\n\u001B[0;32m   (...)\u001B[0m\n\u001B[1;32m     10\u001B[0m     \u001B[38;5;124m\"\u001B[39m\u001B[38;5;124msurface_state_8\u001B[39m\u001B[38;5;124m\"\u001B[39m: \u001B[38;5;124m\"\u001B[39m\u001B[38;5;124msurface_state_moist_chemical\u001B[39m\u001B[38;5;124m\"\u001B[39m\n\u001B[1;32m     11\u001B[0m })\n\u001B[0;32m---> 12\u001B[0m \u001B[43mxxxx\u001B[49m\n",
      "\u001B[0;31mNameError\u001B[0m: name 'xxxx' is not defined"
     ]
    }
   ],
   "source": [
    "\n",
    "df_clean = df_clean.rename(columns={\n",
    "    \"surface_state_0\": \"surface_state_error\",\n",
    "    \"surface_state_1\": \"surface_state_dry\",\n",
    "    \"surface_state_2\": \"surface_state_moist\",\n",
    "    \"surface_state_3\": \"surface_state_wet\",\n",
    "    \"surface_state_4\": \"surface_state_wet_chemical\",\n",
    "    \"surface_state_5\": \"surface_state_frosty\",\n",
    "    \"surface_state_6\": \"surface_state_snowy\",\n",
    "    \"surface_state_7\": \"surface_state_icy\",\n",
    "    \"surface_state_8\": \"surface_state_moist_chemical\"\n",
    "})\n"
   ],
   "metadata": {
    "collapsed": false,
    "pycharm": {
     "name": "#%%\n"
    }
   }
  },
  {
   "cell_type": "code",
   "execution_count": 23,
   "outputs": [],
   "source": [
    "df_clean.to_csv(\"ff.csv\")"
   ],
   "metadata": {
    "collapsed": false,
    "pycharm": {
     "name": "#%%\n"
    }
   }
  },
  {
   "cell_type": "code",
   "execution_count": null,
   "outputs": [],
   "source": [
    "df_clean[df_clean.surface_state_9 !=0]"
   ],
   "metadata": {
    "collapsed": false,
    "pycharm": {
     "name": "#%%\n"
    }
   }
  },
  {
   "cell_type": "code",
   "execution_count": null,
   "outputs": [],
   "source": [
    "df_clean.groupby(\"timestamp\").count()"
   ],
   "metadata": {
    "collapsed": false,
    "pycharm": {
     "name": "#%%\n"
    }
   }
  },
  {
   "cell_type": "code",
   "execution_count": null,
   "outputs": [],
   "source": [
    "df[(df[\"st1\"] != df['st2']) & (df[\"ts2\"].notna()) & (df[\"ts1\"].notna())]"
   ],
   "metadata": {
    "collapsed": false,
    "pycharm": {
     "name": "#%%\n"
    }
   }
  },
  {
   "cell_type": "code",
   "execution_count": null,
   "outputs": [],
   "source": [
    "df_clean.describe()\n",
    "\n",
    "# df[['temp']].max()"
   ],
   "metadata": {
    "collapsed": false,
    "pycharm": {
     "name": "#%%\n"
    }
   }
  },
  {
   "cell_type": "code",
   "execution_count": null,
   "outputs": [],
   "source": [
    "df['station_id'].value_counts()\n",
    "df['vis'].value_counts(dropna=False)"
   ],
   "metadata": {
    "collapsed": false,
    "pycharm": {
     "name": "#%%\n"
    }
   }
  },
  {
   "cell_type": "code",
   "execution_count": null,
   "outputs": [],
   "source": [
    "df['mes_datetime'].value_counts()"
   ],
   "metadata": {
    "collapsed": false,
    "pycharm": {
     "name": "#%%\n"
    }
   }
  },
  {
   "cell_type": "code",
   "execution_count": null,
   "outputs": [],
   "source": [
    "# df.boxplot(column=[\"temp\"])\n",
    "# df.boxplot()\n",
    "for column in df_clean:\n",
    "    if column != \"mes_datetime\":\n",
    "        plt.figure()\n",
    "        df_clean.boxplot([column])"
   ],
   "metadata": {
    "collapsed": false,
    "pycharm": {
     "name": "#%%\n"
    }
   }
  },
  {
   "cell_type": "code",
   "execution_count": null,
   "outputs": [],
   "source": [
    "df[(df[\"vis\"] < 2000)][\"vis\"].plot.hist()\n",
    "print(len(df))\n",
    "df_lim_vis = df[(df[\"vis\"] < 2000)]\n",
    "print(len(df_lim_vis))\n"
   ],
   "metadata": {
    "collapsed": false,
    "pycharm": {
     "name": "#%%\n"
    }
   }
  },
  {
   "cell_type": "code",
   "execution_count": null,
   "outputs": [],
   "source": [
    "df_lim_vis.head()"
   ],
   "metadata": {
    "collapsed": false,
    "pycharm": {
     "name": "#%%\n"
    }
   }
  },
  {
   "cell_type": "code",
   "execution_count": null,
   "outputs": [],
   "source": [
    "# for column in df_lim_vis:\n",
    "#     if column != \"mes_datetime\":\n",
    "#         plt.figure()\n",
    "#         df.boxplot([column])"
   ],
   "metadata": {
    "collapsed": false,
    "pycharm": {
     "name": "#%%\n"
    }
   }
  },
  {
   "cell_type": "code",
   "execution_count": null,
   "outputs": [],
   "source": [
    "df_clean = df_clean.drop(columns=[\"warning\", \"rain\", \"surface_state\"])"
   ],
   "metadata": {
    "collapsed": false,
    "pycharm": {
     "name": "#%%\n"
    }
   }
  },
  {
   "cell_type": "code",
   "execution_count": null,
   "outputs": [],
   "source": [
    "df_clean[\"surface_state\"].value_counts()"
   ],
   "metadata": {
    "collapsed": false,
    "pycharm": {
     "name": "#%%\n"
    }
   }
  },
  {
   "cell_type": "code",
   "execution_count": null,
   "outputs": [],
   "source": [
    "import seaborn as sns\n",
    "\n",
    "fig, ax = plt.subplots(figsize=(20, 20))\n",
    "sns.heatmap(df_clean.corr(), cmap=\"Greens\", annot=True, ax=ax)\n",
    "# sns.heatmap(df_lim_vis.corr(),annot=True,ax=ax)"
   ],
   "metadata": {
    "collapsed": false,
    "pycharm": {
     "name": "#%%\n"
    }
   }
  },
  {
   "cell_type": "code",
   "execution_count": null,
   "outputs": [],
   "source": [],
   "metadata": {
    "collapsed": false,
    "pycharm": {
     "name": "#%%\n"
    }
   }
  },
  {
   "cell_type": "code",
   "execution_count": null,
   "outputs": [],
   "source": [
    "# for col in df_clean.columns:\n",
    "#     for col2 in df_clean.columns:\n",
    "#         if (col != \"mes_datetime\"):\n",
    "#             if (col2 != \"mes_datetime\"):\n",
    "#                 print(f'{col} {col2}')\n",
    "#                 z = df_clean.plot.scatter(col,col2)\n",
    "#                 plt.show()\n",
    "df_clean"
   ],
   "metadata": {
    "collapsed": false,
    "pycharm": {
     "name": "#%%\n"
    }
   }
  },
  {
   "cell_type": "code",
   "execution_count": null,
   "outputs": [],
   "source": [
    "\n",
    "sns.set_theme(style=\"ticks\")\n",
    "\n",
    "sns.pairplot(df_clean)\n"
   ],
   "metadata": {
    "collapsed": false,
    "pycharm": {
     "name": "#%%\n"
    }
   }
  }
 ],
 "metadata": {
  "kernelspec": {
   "display_name": "Python 3",
   "language": "python",
   "name": "python3"
  },
  "language_info": {
   "codemirror_mode": {
    "name": "ipython",
    "version": 2
   },
   "file_extension": ".py",
   "mimetype": "text/x-python",
   "name": "python",
   "nbconvert_exporter": "python",
   "pygments_lexer": "ipython2",
   "version": "2.7.6"
  }
 },
 "nbformat": 4,
 "nbformat_minor": 0
}